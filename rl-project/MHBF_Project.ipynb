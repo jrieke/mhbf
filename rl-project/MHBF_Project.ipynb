{
 "cells": [
  {
   "cell_type": "code",
   "execution_count": 6,
   "metadata": {
    "scrolled": true
   },
   "outputs": [
    {
     "data": {
      "image/png": "[encoded data removed]",
      "text/plain": [
       "<matplotlib.figure.Figure at 0x104936240>"
      ]
     },
     "metadata": {},
     "output_type": "display_data"
    }
   ],
   "source": [
    "import numpy as np\n",
    "import matplotlib.pyplot as plt\n",
    "\n",
    "maze=np.zeros((12,22))\n",
    "maze[:,10:12]=1\n",
    "maze[0:2,:]=1\n",
    "maze[10:12,10:12]=\"2\"\n",
    "maze[0:2,0:4]=\"3\"\n",
    "maze[0:2,18:22]=\"4\"\n",
    "plt.imshow(maze)\n",
    "plt.show()"
   ]
  },
  {
   "cell_type": "code",
   "execution_count": 7,
   "metadata": {
    "collapsed": true
   },
   "outputs": [],
   "source": [
    "place_fields=np.ones(np.shape(maze))*-1\n"
   ]
  },
  {
   "cell_type": "code",
   "execution_count": 10,
   "metadata": {},
   "outputs": [],
   "source": [
    "# need to make array with spatial positions of place fields \n",
    "place_fields=np.zeros(np.shape(maze))\n",
    "\n",
    "\n",
    "def input_activity(s,sig=5):\n",
    "    input_layer=np.zeros((2,12,22))\n",
    "    x,y,alpha=s[0],s[1],s[2]\n",
    "    if alpha==0:\n",
    "        for i in range(12):\n",
    "            for j in range(22):\n",
    "                activity=(np.exp(-(((j*5)-x)**2+((i*5)-y)**2)/2*sig**2))\n",
    "                input_layer[0,i,j]=activity\n",
    "    elif alpha==1:\n",
    "        for i in range(12):\n",
    "            for j in range(22):\n",
    "                activity=(np.exp(-(((j*5)-x)**2+((i*5)-y)**2)/2*sig**2))\n",
    "                input_layer[1,i,j]=activity\n",
    "    return input_layer\n",
    "    "
   ]
  },
  {
   "cell_type": "code",
   "execution_count": 29,
   "metadata": {
    "scrolled": true
   },
   "outputs": [
    {
     "data": {
      "image/png": "[encoded data removed]",
      "text/plain": [
       "<matplotlib.figure.Figure at 0x10e8f5080>"
      ]
     },
     "metadata": {},
     "output_type": "display_data"
    }
   ],
   "source": [
    "s=[100,5,1]\n",
    "plt.imshow(input_activity(s)[1])\n",
    "plt.show()"
   ]
  },
  {
   "cell_type": "code",
   "execution_count": 24,
   "metadata": {
    "collapsed": true
   },
   "outputs": [],
   "source": [
    "def output_activity(input_layer,weights):\n",
    "    return input_layer*weights"
   ]
  },
  {
   "cell_type": "code",
   "execution_count": 23,
   "metadata": {
    "collapsed": true
   },
   "outputs": [],
   "source": [
    "class Environment():\n",
    "    \n",
    "    actions = {'up': 0, 'down': 1, 'left':2,'right':3}\n",
    "    \n",
    "    \n",
    "    def __init__(self, maze):\n",
    "        self.maze = maze\n",
    "        self.reset()\n",
    "        \n",
    "    def reset(self):\n",
    "        self.pos = np.random.randint(1, self.num_fields - 1)  # do not start on the doener fields\n",
    "        return self.pos\n",
    "    \n",
    "    def step(self, action):\n",
    "        if action == self.actions['up']:\n",
    "            self.pos += 1\n",
    "        elif action == self.actions['down']:\n",
    "            self.pos -= 1\n",
    "        else:\n",
    "            raise ValueError('Received invalid action:', action)\n",
    "            \n",
    "        if self.pos == 0:\n",
    "            reward = 1000\n",
    "            done = True\n",
    "        elif self.pos == self.num_fields - 1:\n",
    "            reward = 100\n",
    "            done = True\n",
    "        else:\n",
    "            reward = -10\n",
    "            done = False\n",
    "            \n",
    "        return self.pos, reward, done"
   ]
  },
  {
   "cell_type": "code",
   "execution_count": null,
   "metadata": {
    "collapsed": true
   },
   "outputs": [],
   "source": []
  }
 ],
 "metadata": {
  "anaconda-cloud": {},
  "kernelspec": {
   "display_name": "Python [conda root]",
   "language": "python",
   "name": "conda-root-py"
  },
  "language_info": {
   "codemirror_mode": {
    "name": "ipython",
    "version": 2
   },
   "file_extension": ".py",
   "mimetype": "text/x-python",
   "name": "python",
   "nbconvert_exporter": "python",
   "pygments_lexer": "ipython2",
   "version": "2.7.13"
  },
  "toc": {
   "colors": {
    "hover_highlight": "#DAA520",
    "navigate_num": "#000000",
    "navigate_text": "#333333",
    "running_highlight": "#FF0000",
    "selected_highlight": "#FFD700",
    "sidebar_border": "#EEEEEE",
    "wrapper_background": "#FFFFFF"
   },
   "moveMenuLeft": true,
   "nav_menu": {
    "height": "12px",
    "width": "252px"
   },
   "navigate_menu": true,
   "number_sections": true,
   "sideBar": true,
   "threshold": 4,
   "toc_cell": false,
   "toc_section_display": "block",
   "toc_window_display": false,
   "widenNotebook": false
  },
  "varInspector": {
   "cols": {
    "lenName": 16,
    "lenType": 16,
    "lenVar": 40
   },
   "kernels_config": {
    "python": {
     "delete_cmd_postfix": "",
     "delete_cmd_prefix": "del ",
     "library": "var_list.py",
     "varRefreshCmd": "print(var_dic_list())"
    },
    "r": {
     "delete_cmd_postfix": ") ",
     "delete_cmd_prefix": "rm(",
     "library": "var_list.r",
     "varRefreshCmd": "cat(var_dic_list()) "
    }
   },
   "types_to_exclude": [
    "module",
    "function",
    "builtin_function_or_method",
    "instance",
    "_Feature"
   ],
   "window_display": false
  }
 },
 "nbformat": 4,
 "nbformat_minor": 2
}
